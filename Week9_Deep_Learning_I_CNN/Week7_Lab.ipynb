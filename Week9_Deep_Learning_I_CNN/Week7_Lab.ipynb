{
 "cells": [
  {
   "cell_type": "markdown",
   "metadata": {},
   "source": [
    "# CNN with Keras on MNIST data"
   ]
  },
  {
   "cell_type": "code",
   "execution_count": 4,
   "metadata": {},
   "outputs": [
    {
     "data": {
      "image/png": "[encoded data removed]",
      "text/plain": [
       "<Figure size 432x288 with 4 Axes>"
      ]
     },
     "metadata": {
      "needs_background": "light"
     },
     "output_type": "display_data"
    }
   ],
   "source": [
    "# Load thad the MNIST data and plot the first 4 images in the training set\n",
    "import keras\n",
    "from keras.datasets import mnist \n",
    "import matplotlib.pyplot as plt\n",
    "# load (downloaded if needed) the MNIST dataset\n",
    "(x_train, y_train), (x_test, y_test) = keras.datasets.mnist.load_data()\n",
    "# plot 4 images as gray scale\n",
    "plt.subplot(221)\n",
    "plt.imshow(x_train[0], cmap=plt.get_cmap('gray')) \n",
    "plt.subplot(222)\n",
    "plt.imshow(x_train[1], cmap=plt.get_cmap('gray')) \n",
    "plt.subplot(223)\n",
    "plt.imshow(x_train[2], cmap=plt.get_cmap('gray')) \n",
    "plt.subplot(224)\n",
    "plt.imshow(x_train[3], cmap=plt.get_cmap('gray'))\n",
    "# show the plot\n",
    "plt.show()"
   ]
  },
  {
   "cell_type": "code",
   "execution_count": 5,
   "metadata": {},
   "outputs": [],
   "source": [
    "# import other classes and functions \n",
    "import warnings\n",
    "warnings.simplefilter(action='ignore', category=FutureWarning) \n",
    "import sys\n",
    "import tensorflow as tf\n",
    "from keras.models import Sequential\n",
    "from keras.layers import Dense, Dropout, Flatten\n",
    "from keras.layers.convolutional import Conv2D, MaxPooling2D\n",
    "\n",
    "# fix random seed for reproducibility\n",
    "import numpy as np \n",
    "np.random.seed(7)"
   ]
  },
  {
   "cell_type": "code",
   "execution_count": 6,
   "metadata": {},
   "outputs": [
    {
     "name": "stdout",
     "output_type": "stream",
     "text": [
      "Python version :  3.7.3 (default, Mar 27 2019, 16:54:48) \n",
      "[Clang 4.0.1 (tags/RELEASE_401/final)]\n",
      "TensorFlow version :  1.14.0\n",
      "Keras version :  2.3.0\n"
     ]
    }
   ],
   "source": [
    "# check Python, TensorFlow and Keras version\n",
    "\n",
    "print('Python version : ', sys.version) \n",
    "print('TensorFlow version : ', tf.__version__) \n",
    "print('Keras version : ', keras.__version__)"
   ]
  },
  {
   "cell_type": "markdown",
   "metadata": {},
   "source": [
    "As we already loaded the MNIST dataset, we now just reshape it so that it is suitable for use training a CNN. In Keras, the layers used for two-dimensional convolutions (Conv2D) expect pixel values with the dimensions `[height][width][channels]`. In the case of RGB, the first- dimension channels would be 3 for the red, green and blue components and it would be like having 3 image inputs for every colour image. In the case of MNIST where the channels values are grey scale, the pixel dimension is set to 1.\n"
   ]
  },
  {
   "cell_type": "code",
   "execution_count": 7,
   "metadata": {},
   "outputs": [],
   "source": [
    "img_rows = 28\n",
    "img_cols = 28\n",
    "input_shape = (img_rows, img_cols, 1)\n",
    "\n",
    "# reshape to be [samples][height][width][channels] for Keras\n",
    "x_train = x_train.reshape(x_train.shape[0], img_rows, img_cols, 1) \n",
    "x_test = x_test.reshape(x_test.shape[0], img_rows, img_cols, 1)"
   ]
  },
  {
   "cell_type": "code",
   "execution_count": 9,
   "metadata": {},
   "outputs": [],
   "source": [
    "# normalise inputs from 0-255 to 0-1\n",
    "x_train = x_train.astype('float32') / 255. \n",
    "x_test = x_test.astype('float32') / 255."
   ]
  },
  {
   "cell_type": "code",
   "execution_count": 10,
   "metadata": {},
   "outputs": [
    {
     "name": "stdout",
     "output_type": "stream",
     "text": [
      "x_train shape: (60000, 28, 28, 1)\n",
      "60000 train samples\n",
      "10000 test samples\n"
     ]
    }
   ],
   "source": [
    "# print to check input shape\n",
    "print('x_train shape:', x_train.shape) \n",
    "print(x_train.shape[0], 'train samples') \n",
    "print(x_test.shape[0], 'test samples')\n"
   ]
  },
  {
   "cell_type": "markdown",
   "metadata": {},
   "source": [
    "### Apply `one hot encoding` to labels \n",
    "A one hot encoding is a representation of categorical variables as binary vectors. This first requires that the categorical values be mapped to integer values. Then, each integer value is represented as a binary vector that is all zero values except the index of the integer, which is marked with a 1. For example, if we had the sequence: ‘red’, ‘red’, ‘green’. We could represent it with the integer encoding: 0, 0, 1. \n",
    "\n",
    "We would like to give the network more expressive power to learn a probability-like number for each possible label value."
   ]
  },
  {
   "cell_type": "code",
   "execution_count": 11,
   "metadata": {},
   "outputs": [],
   "source": [
    "# apply one hot encoding to labels\n",
    "\n",
    "num_classes = 10\n",
    "y_train = keras.utils.to_categorical(y_train, num_classes) \n",
    "y_test = keras.utils.to_categorical(y_test, num_classes)"
   ]
  },
  {
   "cell_type": "markdown",
   "metadata": {},
   "source": [
    "### Define neural network model\n",
    "\n",
    "1. The first hidden layer is a convolutional layer called a `Conv2D`. The layer has 32 feature maps, with the size of 5 × 5 and a rectifier (`𝑟𝑒𝑙𝑢`) activation function. This is the input layer, expecting images with the structure outline above.\n",
    "2. Next, we define a pooling layer that takes the maximum value called `MaxPooling2D`. It is configured with a pool size of 2 × 2.\n",
    "3. The second hidden layer is also a `Conv2D`. The layer has 64 features maps, with the size of 5 × 5 and a `𝑟𝑒𝑙𝑢` activation function.\n",
    "4. Next, we define a `MaxPooling2D` again. It is configured with a pool size of 2 × 2.\n",
    "5. The next layer is a regularization layer using dropout called `Dropout`. It is configured to randomly exclude 25% of neurons in the layer in order to reduce overfitting.\n",
    "6. Next is a layer that converts the 2D matrix data to a vector called `𝐹𝑙𝑎𝑡𝑡𝑒𝑛`. It allows the output to be processed by standard fully connected layers.\n",
    "7. Next a fully connected layer with 1000 neurons and `𝑟𝑒𝑙𝑢` function is used.\n",
    "8. We again use `Dropout`. It is configured to randomly exclude 50% of neurons in the layer.\n",
    "9. Finally, the output layer has 10 neurons for the 10 classes and a `softmax activation function` to output probability-like predictions for each class.\n",
    "\n",
    "As before, the model is trained using logarithmic loss and the ADAM gradient descent algorithm. A depiction of the network structure is provided below."
   ]
  },
  {
   "cell_type": "code",
   "execution_count": 12,
   "metadata": {},
   "outputs": [
    {
     "name": "stdout",
     "output_type": "stream",
     "text": [
      "WARNING:tensorflow:From /Users/anyi.guo/anaconda3/lib/python3.7/site-packages/keras/backend/tensorflow_backend.py:4070: The name tf.nn.max_pool is deprecated. Please use tf.nn.max_pool2d instead.\n",
      "\n",
      "Model: \"sequential_1\"\n",
      "_________________________________________________________________\n",
      "Layer (type)                 Output Shape              Param #   \n",
      "=================================================================\n",
      "conv2d_1 (Conv2D)            (None, 28, 28, 32)        832       \n",
      "_________________________________________________________________\n",
      "max_pooling2d_1 (MaxPooling2 (None, 14, 14, 32)        0         \n",
      "_________________________________________________________________\n",
      "conv2d_2 (Conv2D)            (None, 14, 14, 64)        8256      \n",
      "_________________________________________________________________\n",
      "max_pooling2d_2 (MaxPooling2 (None, 7, 7, 64)          0         \n",
      "_________________________________________________________________\n",
      "dropout_1 (Dropout)          (None, 7, 7, 64)          0         \n",
      "_________________________________________________________________\n",
      "flatten_1 (Flatten)          (None, 3136)              0         \n",
      "_________________________________________________________________\n",
      "dense_1 (Dense)              (None, 1000)              3137000   \n",
      "_________________________________________________________________\n",
      "dropout_2 (Dropout)          (None, 1000)              0         \n",
      "_________________________________________________________________\n",
      "dense_2 (Dense)              (None, 10)                10010     \n",
      "=================================================================\n",
      "Total params: 3,156,098\n",
      "Trainable params: 3,156,098\n",
      "Non-trainable params: 0\n",
      "_________________________________________________________________\n"
     ]
    }
   ],
   "source": [
    "model = Sequential()\n",
    "# Layer 1\n",
    "model.add(Conv2D(32, kernel_size=(5, 5), strides=(1, 1), padding='same', activation='relu', input_shape=input_shape)) \n",
    "model.add(MaxPooling2D(pool_size=(2, 2), strides=(2, 2))) \n",
    "# Layer 2\n",
    "model.add(Conv2D(64, (2, 2), activation='relu', padding='same')) \n",
    "model.add(MaxPooling2D(pool_size=(2, 2)))\n",
    "# Fully Connected Layer 1\n",
    "model.add(Dropout(0.25))\n",
    "model.add(Flatten())\n",
    "# Fully Connected Layer 2\n",
    "model.add(Dense(1000, activation='relu'))\n",
    "model.add(Dropout(0.5))\n",
    "model.add(Dense(num_classes, activation='softmax'))\n",
    "model.summary()"
   ]
  },
  {
   "cell_type": "markdown",
   "metadata": {},
   "source": [
    "### Compile and fit the model.\n",
    "The CNN is fit over 12 epochs with a batch size of 128 as defined above. The `𝑣𝑒𝑟𝑏𝑜𝑠𝑒` setting changes the way you see the training progress for each epoch. For example, `𝑣𝑒𝑟𝑏𝑜𝑠𝑒 = 0` will show you nothing (silent), `𝑣𝑒𝑟𝑏𝑜𝑠𝑒 = 1` will show you an animated progress bar like this: [===========] and `𝑣𝑒𝑟𝑏𝑜𝑠𝑒 = 2` will just mention the number of epoch like this: `Epoch 1/10`"
   ]
  },
  {
   "cell_type": "code",
   "execution_count": 22,
   "metadata": {},
   "outputs": [
    {
     "name": "stdout",
     "output_type": "stream",
     "text": [
      "Train on 60000 samples, validate on 10000 samples\n",
      "Epoch 1/12\n",
      "60000/60000 [==============================] - 32s 533us/step - loss: 0.1284 - accuracy: 0.9592 - val_loss: 0.0771 - val_accuracy: 0.9766\n",
      "Epoch 2/12\n",
      "60000/60000 [==============================] - 32s 532us/step - loss: 0.1194 - accuracy: 0.9636 - val_loss: 0.0731 - val_accuracy: 0.9782\n",
      "Epoch 3/12\n",
      "60000/60000 [==============================] - 33s 550us/step - loss: 0.1146 - accuracy: 0.9632 - val_loss: 0.0668 - val_accuracy: 0.9789\n",
      "Epoch 4/12\n",
      "60000/60000 [==============================] - 33s 554us/step - loss: 0.1041 - accuracy: 0.9672 - val_loss: 0.0627 - val_accuracy: 0.9812\n",
      "Epoch 5/12\n",
      "60000/60000 [==============================] - 34s 565us/step - loss: 0.0954 - accuracy: 0.9699 - val_loss: 0.0593 - val_accuracy: 0.9830\n",
      "Epoch 6/12\n",
      "60000/60000 [==============================] - 32s 534us/step - loss: 0.0920 - accuracy: 0.9711 - val_loss: 0.0580 - val_accuracy: 0.9831\n",
      "Epoch 7/12\n",
      "60000/60000 [==============================] - 34s 567us/step - loss: 0.0857 - accuracy: 0.9731 - val_loss: 0.0536 - val_accuracy: 0.9840\n",
      "Epoch 8/12\n",
      "60000/60000 [==============================] - 34s 568us/step - loss: 0.0785 - accuracy: 0.9753 - val_loss: 0.0486 - val_accuracy: 0.9857\n",
      "Epoch 9/12\n",
      "60000/60000 [==============================] - 41s 690us/step - loss: 0.0738 - accuracy: 0.9763 - val_loss: 0.0467 - val_accuracy: 0.9859\n",
      "Epoch 10/12\n",
      "60000/60000 [==============================] - 39s 646us/step - loss: 0.0683 - accuracy: 0.9785 - val_loss: 0.0463 - val_accuracy: 0.9852\n",
      "Epoch 11/12\n",
      "60000/60000 [==============================] - 36s 606us/step - loss: 0.0644 - accuracy: 0.9793 - val_loss: 0.0421 - val_accuracy: 0.9871\n",
      "Epoch 12/12\n",
      "60000/60000 [==============================] - 40s 667us/step - loss: 0.0617 - accuracy: 0.9809 - val_loss: 0.0421 - val_accuracy: 0.9863\n"
     ]
    }
   ],
   "source": [
    "opt = 'adam'\n",
    "loss = 'categorical_crossentropy' \n",
    "metrics = ['accuracy']\n",
    "# these values are chosen via trial and error\n",
    "batch_size = 128 \n",
    "epochs = 12\n",
    "\n",
    "model.compile(optimizer=opt, loss=loss, metrics=metrics)\n",
    "# fit the model\n",
    "history = model.fit(x_train, y_train, batch_size=batch_size, epochs=epochs, verbose=1, validation_split=0.33,validation_data=(x_test, y_test))"
   ]
  },
  {
   "cell_type": "code",
   "execution_count": 16,
   "metadata": {},
   "outputs": [
    {
     "name": "stdout",
     "output_type": "stream",
     "text": [
      "10000/10000 [==============================] - 1s 84us/step\n"
     ]
    },
    {
     "data": {
      "text/plain": [
       "[0.08899033047780394, 0.9718999862670898]"
      ]
     },
     "execution_count": 16,
     "metadata": {},
     "output_type": "execute_result"
    }
   ],
   "source": [
    "model.evaluate(x=x_test,y=y_test,batch_size=batch_size, verbose = 1)"
   ]
  },
  {
   "cell_type": "code",
   "execution_count": 18,
   "metadata": {},
   "outputs": [
    {
     "data": {
      "text/plain": [
       "array([[1.9159183e-09, 7.9297271e-09, 2.0617726e-05, ..., 1.8900633e-04,\n",
       "        1.8025261e-08, 6.8210084e-06],\n",
       "       [2.6276178e-10, 1.4479570e-03, 1.4625788e-03, ..., 2.8637256e-11,\n",
       "        1.7567770e-07, 1.3802458e-14],\n",
       "       [3.4612410e-06, 8.8685751e-04, 6.8640336e-05, ..., 4.3222666e-04,\n",
       "        1.4386595e-04, 7.8854109e-06],\n",
       "       ...,\n",
       "       [8.5622143e-12, 1.3833068e-07, 3.6124825e-10, ..., 8.6100154e-05,\n",
       "        4.8311307e-07, 2.2380899e-03],\n",
       "       [1.2974099e-08, 4.6845738e-08, 4.0532112e-11, ..., 2.3063414e-08,\n",
       "        6.7233015e-04, 1.3969064e-09],\n",
       "       [2.3982313e-06, 7.6716833e-10, 3.0779017e-06, ..., 2.6761818e-11,\n",
       "        2.2579975e-08, 8.3325219e-10]], dtype=float32)"
      ]
     },
     "execution_count": 18,
     "metadata": {},
     "output_type": "execute_result"
    }
   ],
   "source": [
    "# How many images are misclassified?\n",
    "predicted = model.predict(x_test)    \n",
    "result = np.absolute(y_test-predicted)"
   ]
  },
  {
   "cell_type": "code",
   "execution_count": 23,
   "metadata": {},
   "outputs": [
    {
     "name": "stdout",
     "output_type": "stream",
     "text": [
      "<keras.callbacks.callbacks.History object at 0x634ba65c0>\n"
     ]
    },
    {
     "ename": "KeyError",
     "evalue": "'acc'",
     "output_type": "error",
     "traceback": [
      "\u001b[0;31m---------------------------------------------------------------------------\u001b[0m",
      "\u001b[0;31mKeyError\u001b[0m                                  Traceback (most recent call last)",
      "\u001b[0;32m<ipython-input-23-0bf8b1c97c8e>\u001b[0m in \u001b[0;36m<module>\u001b[0;34m\u001b[0m\n\u001b[1;32m      3\u001b[0m \u001b[0mprint\u001b[0m\u001b[0;34m(\u001b[0m\u001b[0mhistory\u001b[0m\u001b[0;34m)\u001b[0m\u001b[0;34m\u001b[0m\u001b[0;34m\u001b[0m\u001b[0m\n\u001b[1;32m      4\u001b[0m \u001b[0mfig1\u001b[0m\u001b[0;34m,\u001b[0m \u001b[0max_acc\u001b[0m \u001b[0;34m=\u001b[0m \u001b[0mplt\u001b[0m\u001b[0;34m.\u001b[0m\u001b[0msubplots\u001b[0m\u001b[0;34m(\u001b[0m\u001b[0;34m)\u001b[0m\u001b[0;34m\u001b[0m\u001b[0;34m\u001b[0m\u001b[0m\n\u001b[0;32m----> 5\u001b[0;31m \u001b[0mplt\u001b[0m\u001b[0;34m.\u001b[0m\u001b[0mplot\u001b[0m\u001b[0;34m(\u001b[0m\u001b[0mhistory\u001b[0m\u001b[0;34m.\u001b[0m\u001b[0mhistory\u001b[0m\u001b[0;34m[\u001b[0m\u001b[0;34m'acc'\u001b[0m\u001b[0;34m]\u001b[0m\u001b[0;34m)\u001b[0m\u001b[0;34m\u001b[0m\u001b[0;34m\u001b[0m\u001b[0m\n\u001b[0m\u001b[1;32m      6\u001b[0m \u001b[0mplt\u001b[0m\u001b[0;34m.\u001b[0m\u001b[0mplot\u001b[0m\u001b[0;34m(\u001b[0m\u001b[0mhistory\u001b[0m\u001b[0;34m.\u001b[0m\u001b[0mhistory\u001b[0m\u001b[0;34m[\u001b[0m\u001b[0;34m'val_acc'\u001b[0m\u001b[0;34m]\u001b[0m\u001b[0;34m)\u001b[0m\u001b[0;34m\u001b[0m\u001b[0;34m\u001b[0m\u001b[0m\n\u001b[1;32m      7\u001b[0m \u001b[0mplt\u001b[0m\u001b[0;34m.\u001b[0m\u001b[0mxlabel\u001b[0m\u001b[0;34m(\u001b[0m\u001b[0;34m'Epoch'\u001b[0m\u001b[0;34m)\u001b[0m\u001b[0;34m\u001b[0m\u001b[0;34m\u001b[0m\u001b[0m\n",
      "\u001b[0;31mKeyError\u001b[0m: 'acc'"
     ]
    },
    {
     "data": {
      "image/png": "[encoded data removed]",
      "text/plain": [
       "<Figure size 432x288 with 1 Axes>"
      ]
     },
     "metadata": {
      "needs_background": "light"
     },
     "output_type": "display_data"
    }
   ],
   "source": [
    "# Run the below code blocks and analyse the plots. What do these plots tell? \n",
    "\n",
    "print(history)\n",
    "fig1, ax_acc = plt.subplots() \n",
    "plt.plot(history.history['acc']) \n",
    "plt.plot(history.history['val_acc'])\n",
    "plt.xlabel('Epoch')\n",
    "plt.ylabel('Accuracy')\n",
    "plt.title('Model - Accuracy')\n",
    "plt.legend(['Training', 'Validation'], loc='lower right') \n",
    "plt.show()\n",
    "fig2, ax_loss = plt.subplots()\n",
    "plt.xlabel('Epoch')\n",
    "plt.ylabel('Loss')\n",
    "plt.title('Model - Loss')\n",
    "plt.legend(['Training', 'Validation'], loc='upper right') \n",
    "plt.plot(history.history['loss']) \n",
    "plt.plot(history.history['val_loss'])\n",
    "plt.show()"
   ]
  },
  {
   "cell_type": "code",
   "execution_count": 21,
   "metadata": {},
   "outputs": [
    {
     "data": {
      "image/png": "[encoded data removed]",
      "text/plain": [
       "<Figure size 432x288 with 1 Axes>"
      ]
     },
     "metadata": {
      "needs_background": "light"
     },
     "output_type": "display_data"
    },
    {
     "name": "stdout",
     "output_type": "stream",
     "text": [
      "The Answer is  [2]\n"
     ]
    }
   ],
   "source": [
    "# Run the below code block and interpret the results.\n",
    "n=1\n",
    "plt.imshow(x_test[n].reshape(28, 28), cmap='Greys', interpolation='nearest') \n",
    "plt.show()\n",
    "print('The Answer is ', model.predict_classes(x_test[n].reshape((1, 28, 28, 1))))"
   ]
  },
  {
   "cell_type": "code",
   "execution_count": null,
   "metadata": {},
   "outputs": [],
   "source": []
  },
  {
   "cell_type": "code",
   "execution_count": null,
   "metadata": {},
   "outputs": [],
   "source": []
  }
 ],
 "metadata": {
  "kernelspec": {
   "display_name": "Python 3",
   "language": "python",
   "name": "python3"
  },
  "language_info": {
   "codemirror_mode": {
    "name": "ipython",
    "version": 3
   },
   "file_extension": ".py",
   "mimetype": "text/x-python",
   "name": "python",
   "nbconvert_exporter": "python",
   "pygments_lexer": "ipython3",
   "version": "3.7.3"
  }
 },
 "nbformat": 4,
 "nbformat_minor": 2
}
