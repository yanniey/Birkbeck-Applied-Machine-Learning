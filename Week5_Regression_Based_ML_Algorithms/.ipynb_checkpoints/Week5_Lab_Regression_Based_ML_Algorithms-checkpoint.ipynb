{
 "cells": [
  {
   "cell_type": "markdown",
   "metadata": {},
   "source": [
    "## Pipelining"
   ]
  },
  {
   "cell_type": "markdown",
   "metadata": {},
   "source": [
    "sigmoid function not commonly used for deep neural networks or RNN because long term information has to sequentially travel through all cells before getting to the current processing cell."
   ]
  },
  {
   "cell_type": "markdown",
   "metadata": {},
   "source": [
    "this means that it can be easily corrupted by being multiplied many times by small numbers <0. This is the cause of vanishing gradients"
   ]
  },
  {
   "cell_type": "markdown",
   "metadata": {},
   "source": [
    "tanH (Hyperbolic Tangent):  between -1 and 1, central near 0. It is easier to train and often better performance than sigmoid function\n",
    "\n",
    "ReLU (Rectified Linear Unit):"
   ]
  }
 ],
 "metadata": {
  "kernelspec": {
   "display_name": "Python 3",
   "language": "python",
   "name": "python3"
  },
  "language_info": {
   "codemirror_mode": {
    "name": "ipython",
    "version": 3
   },
   "file_extension": ".py",
   "mimetype": "text/x-python",
   "name": "python",
   "nbconvert_exporter": "python",
   "pygments_lexer": "ipython3",
   "version": "3.7.3"
  }
 },
 "nbformat": 4,
 "nbformat_minor": 2
}
