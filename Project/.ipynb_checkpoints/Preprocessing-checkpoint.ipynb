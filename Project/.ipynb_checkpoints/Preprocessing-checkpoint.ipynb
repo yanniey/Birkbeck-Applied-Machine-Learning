{
 "cells": [
  {
   "cell_type": "markdown",
   "metadata": {},
   "source": [
    "You are suggested to use suitable descriptive statistics and visualisation to better understand the data you have available. You need to consider various data pre-processing techniques such as data transformation, discretisation, cleaning, normalisation, standardisation, smoothing, feature construction and use them if necessary.\n"
   ]
  },
  {
   "cell_type": "code",
   "execution_count": 1,
   "metadata": {},
   "outputs": [],
   "source": [
    "import pandas as pd\n",
    "import numpy as np\n",
    "from matplotlib import pyplot as plt\n",
    "import seaborn as sns"
   ]
  },
  {
   "cell_type": "code",
   "execution_count": 2,
   "metadata": {},
   "outputs": [
    {
     "data": {
      "text/plain": [
       "(97044, 153)"
      ]
     },
     "execution_count": 2,
     "metadata": {},
     "output_type": "execute_result"
    }
   ],
   "source": [
    "df = pd.read_csv(\"Datasets/train_imperson_without4n7_balanced_data.csv\")\n",
    "df.shape"
   ]
  },
  {
   "cell_type": "code",
   "execution_count": 3,
   "metadata": {},
   "outputs": [
    {
     "data": {
      "text/html": [
       "<div>\n",
       "<style scoped>\n",
       "    .dataframe tbody tr th:only-of-type {\n",
       "        vertical-align: middle;\n",
       "    }\n",
       "\n",
       "    .dataframe tbody tr th {\n",
       "        vertical-align: top;\n",
       "    }\n",
       "\n",
       "    .dataframe thead th {\n",
       "        text-align: right;\n",
       "    }\n",
       "</style>\n",
       "<table border=\"1\" class=\"dataframe\">\n",
       "  <thead>\n",
       "    <tr style=\"text-align: right;\">\n",
       "      <th></th>\n",
       "      <th>1</th>\n",
       "      <th>2</th>\n",
       "      <th>3</th>\n",
       "      <th>5</th>\n",
       "      <th>6</th>\n",
       "      <th>8</th>\n",
       "      <th>9</th>\n",
       "      <th>10</th>\n",
       "      <th>11</th>\n",
       "      <th>12</th>\n",
       "      <th>...</th>\n",
       "      <th>146</th>\n",
       "      <th>147</th>\n",
       "      <th>148</th>\n",
       "      <th>149</th>\n",
       "      <th>150</th>\n",
       "      <th>151</th>\n",
       "      <th>152</th>\n",
       "      <th>153</th>\n",
       "      <th>154</th>\n",
       "      <th>155</th>\n",
       "    </tr>\n",
       "  </thead>\n",
       "  <tbody>\n",
       "    <tr>\n",
       "      <th>0</th>\n",
       "      <td>0</td>\n",
       "      <td>0</td>\n",
       "      <td>0</td>\n",
       "      <td>0.000066</td>\n",
       "      <td>0.000066</td>\n",
       "      <td>0.009150</td>\n",
       "      <td>0.009150</td>\n",
       "      <td>0</td>\n",
       "      <td>0</td>\n",
       "      <td>0</td>\n",
       "      <td>...</td>\n",
       "      <td>0.0</td>\n",
       "      <td>0</td>\n",
       "      <td>0</td>\n",
       "      <td>0</td>\n",
       "      <td>0</td>\n",
       "      <td>0</td>\n",
       "      <td>0</td>\n",
       "      <td>0</td>\n",
       "      <td>0.0</td>\n",
       "      <td>0</td>\n",
       "    </tr>\n",
       "    <tr>\n",
       "      <th>1</th>\n",
       "      <td>0</td>\n",
       "      <td>0</td>\n",
       "      <td>0</td>\n",
       "      <td>0.000014</td>\n",
       "      <td>0.000014</td>\n",
       "      <td>0.000000</td>\n",
       "      <td>0.000000</td>\n",
       "      <td>0</td>\n",
       "      <td>0</td>\n",
       "      <td>0</td>\n",
       "      <td>...</td>\n",
       "      <td>0.0</td>\n",
       "      <td>0</td>\n",
       "      <td>0</td>\n",
       "      <td>0</td>\n",
       "      <td>0</td>\n",
       "      <td>0</td>\n",
       "      <td>0</td>\n",
       "      <td>0</td>\n",
       "      <td>0.0</td>\n",
       "      <td>0</td>\n",
       "    </tr>\n",
       "    <tr>\n",
       "      <th>2</th>\n",
       "      <td>0</td>\n",
       "      <td>0</td>\n",
       "      <td>0</td>\n",
       "      <td>0.035528</td>\n",
       "      <td>0.035528</td>\n",
       "      <td>0.070588</td>\n",
       "      <td>0.070588</td>\n",
       "      <td>0</td>\n",
       "      <td>0</td>\n",
       "      <td>0</td>\n",
       "      <td>...</td>\n",
       "      <td>0.0</td>\n",
       "      <td>0</td>\n",
       "      <td>0</td>\n",
       "      <td>0</td>\n",
       "      <td>0</td>\n",
       "      <td>0</td>\n",
       "      <td>0</td>\n",
       "      <td>0</td>\n",
       "      <td>0.0</td>\n",
       "      <td>0</td>\n",
       "    </tr>\n",
       "    <tr>\n",
       "      <th>3</th>\n",
       "      <td>0</td>\n",
       "      <td>0</td>\n",
       "      <td>0</td>\n",
       "      <td>0.005128</td>\n",
       "      <td>0.005128</td>\n",
       "      <td>0.094771</td>\n",
       "      <td>0.094771</td>\n",
       "      <td>0</td>\n",
       "      <td>0</td>\n",
       "      <td>0</td>\n",
       "      <td>...</td>\n",
       "      <td>0.0</td>\n",
       "      <td>0</td>\n",
       "      <td>0</td>\n",
       "      <td>0</td>\n",
       "      <td>0</td>\n",
       "      <td>0</td>\n",
       "      <td>0</td>\n",
       "      <td>0</td>\n",
       "      <td>0.0</td>\n",
       "      <td>0</td>\n",
       "    </tr>\n",
       "    <tr>\n",
       "      <th>4</th>\n",
       "      <td>0</td>\n",
       "      <td>0</td>\n",
       "      <td>0</td>\n",
       "      <td>0.035116</td>\n",
       "      <td>0.035116</td>\n",
       "      <td>0.070588</td>\n",
       "      <td>0.070588</td>\n",
       "      <td>0</td>\n",
       "      <td>0</td>\n",
       "      <td>0</td>\n",
       "      <td>...</td>\n",
       "      <td>0.0</td>\n",
       "      <td>0</td>\n",
       "      <td>0</td>\n",
       "      <td>0</td>\n",
       "      <td>0</td>\n",
       "      <td>0</td>\n",
       "      <td>0</td>\n",
       "      <td>0</td>\n",
       "      <td>0.0</td>\n",
       "      <td>0</td>\n",
       "    </tr>\n",
       "  </tbody>\n",
       "</table>\n",
       "<p>5 rows × 153 columns</p>\n",
       "</div>"
      ],
      "text/plain": [
       "   1  2  3         5         6         8         9  10  11  12 ...   146  147  \\\n",
       "0  0  0  0  0.000066  0.000066  0.009150  0.009150   0   0   0 ...   0.0    0   \n",
       "1  0  0  0  0.000014  0.000014  0.000000  0.000000   0   0   0 ...   0.0    0   \n",
       "2  0  0  0  0.035528  0.035528  0.070588  0.070588   0   0   0 ...   0.0    0   \n",
       "3  0  0  0  0.005128  0.005128  0.094771  0.094771   0   0   0 ...   0.0    0   \n",
       "4  0  0  0  0.035116  0.035116  0.070588  0.070588   0   0   0 ...   0.0    0   \n",
       "\n",
       "   148  149  150  151  152  153  154  155  \n",
       "0    0    0    0    0    0    0  0.0    0  \n",
       "1    0    0    0    0    0    0  0.0    0  \n",
       "2    0    0    0    0    0    0  0.0    0  \n",
       "3    0    0    0    0    0    0  0.0    0  \n",
       "4    0    0    0    0    0    0  0.0    0  \n",
       "\n",
       "[5 rows x 153 columns]"
      ]
     },
     "execution_count": 3,
     "metadata": {},
     "output_type": "execute_result"
    }
   ],
   "source": [
    "df.head()"
   ]
  },
  {
   "cell_type": "markdown",
   "metadata": {},
   "source": [
    "### Find columns whose results are all 0 or 1, and remove them from the dataframe\n",
    "The new dataframe is called `df3`"
   ]
  },
  {
   "cell_type": "code",
   "execution_count": 4,
   "metadata": {},
   "outputs": [
    {
     "data": {
      "text/plain": [
       "(97044, 79)"
      ]
     },
     "execution_count": 4,
     "metadata": {},
     "output_type": "execute_result"
    }
   ],
   "source": [
    "df2 = df.loc[:,(df!=0).any()]\n",
    "df3 = df2.loc[:,(df2!=1).any()]\n",
    "df3.shape"
   ]
  },
  {
   "cell_type": "code",
   "execution_count": 5,
   "metadata": {},
   "outputs": [
    {
     "data": {
      "text/html": [
       "<div>\n",
       "<style scoped>\n",
       "    .dataframe tbody tr th:only-of-type {\n",
       "        vertical-align: middle;\n",
       "    }\n",
       "\n",
       "    .dataframe tbody tr th {\n",
       "        vertical-align: top;\n",
       "    }\n",
       "\n",
       "    .dataframe thead th {\n",
       "        text-align: right;\n",
       "    }\n",
       "</style>\n",
       "<table border=\"1\" class=\"dataframe\">\n",
       "  <thead>\n",
       "    <tr style=\"text-align: right;\">\n",
       "      <th></th>\n",
       "      <th>5</th>\n",
       "      <th>6</th>\n",
       "      <th>8</th>\n",
       "      <th>9</th>\n",
       "      <th>14</th>\n",
       "      <th>15</th>\n",
       "      <th>16</th>\n",
       "      <th>18</th>\n",
       "      <th>20</th>\n",
       "      <th>26</th>\n",
       "      <th>...</th>\n",
       "      <th>138</th>\n",
       "      <th>140</th>\n",
       "      <th>141</th>\n",
       "      <th>142</th>\n",
       "      <th>143</th>\n",
       "      <th>144</th>\n",
       "      <th>145</th>\n",
       "      <th>146</th>\n",
       "      <th>154</th>\n",
       "      <th>155</th>\n",
       "    </tr>\n",
       "  </thead>\n",
       "  <tbody>\n",
       "    <tr>\n",
       "      <th>0</th>\n",
       "      <td>0.000066</td>\n",
       "      <td>0.000066</td>\n",
       "      <td>0.009150</td>\n",
       "      <td>0.009150</td>\n",
       "      <td>1</td>\n",
       "      <td>1</td>\n",
       "      <td>1</td>\n",
       "      <td>1</td>\n",
       "      <td>1</td>\n",
       "      <td>1</td>\n",
       "      <td>...</td>\n",
       "      <td>0.5</td>\n",
       "      <td>0.0</td>\n",
       "      <td>0.0</td>\n",
       "      <td>0.0</td>\n",
       "      <td>0.0</td>\n",
       "      <td>0.0</td>\n",
       "      <td>0.0</td>\n",
       "      <td>0.0</td>\n",
       "      <td>0.0</td>\n",
       "      <td>0</td>\n",
       "    </tr>\n",
       "    <tr>\n",
       "      <th>1</th>\n",
       "      <td>0.000014</td>\n",
       "      <td>0.000014</td>\n",
       "      <td>0.000000</td>\n",
       "      <td>0.000000</td>\n",
       "      <td>1</td>\n",
       "      <td>1</td>\n",
       "      <td>1</td>\n",
       "      <td>1</td>\n",
       "      <td>1</td>\n",
       "      <td>1</td>\n",
       "      <td>...</td>\n",
       "      <td>0.5</td>\n",
       "      <td>0.0</td>\n",
       "      <td>0.0</td>\n",
       "      <td>0.0</td>\n",
       "      <td>0.0</td>\n",
       "      <td>0.0</td>\n",
       "      <td>0.0</td>\n",
       "      <td>0.0</td>\n",
       "      <td>0.0</td>\n",
       "      <td>0</td>\n",
       "    </tr>\n",
       "    <tr>\n",
       "      <th>2</th>\n",
       "      <td>0.035528</td>\n",
       "      <td>0.035528</td>\n",
       "      <td>0.070588</td>\n",
       "      <td>0.070588</td>\n",
       "      <td>1</td>\n",
       "      <td>1</td>\n",
       "      <td>1</td>\n",
       "      <td>1</td>\n",
       "      <td>1</td>\n",
       "      <td>1</td>\n",
       "      <td>...</td>\n",
       "      <td>0.5</td>\n",
       "      <td>0.0</td>\n",
       "      <td>0.0</td>\n",
       "      <td>0.0</td>\n",
       "      <td>0.0</td>\n",
       "      <td>0.0</td>\n",
       "      <td>0.0</td>\n",
       "      <td>0.0</td>\n",
       "      <td>0.0</td>\n",
       "      <td>0</td>\n",
       "    </tr>\n",
       "    <tr>\n",
       "      <th>3</th>\n",
       "      <td>0.005128</td>\n",
       "      <td>0.005128</td>\n",
       "      <td>0.094771</td>\n",
       "      <td>0.094771</td>\n",
       "      <td>1</td>\n",
       "      <td>1</td>\n",
       "      <td>1</td>\n",
       "      <td>1</td>\n",
       "      <td>1</td>\n",
       "      <td>1</td>\n",
       "      <td>...</td>\n",
       "      <td>0.5</td>\n",
       "      <td>0.0</td>\n",
       "      <td>0.0</td>\n",
       "      <td>0.0</td>\n",
       "      <td>0.0</td>\n",
       "      <td>0.0</td>\n",
       "      <td>0.0</td>\n",
       "      <td>0.0</td>\n",
       "      <td>0.0</td>\n",
       "      <td>0</td>\n",
       "    </tr>\n",
       "    <tr>\n",
       "      <th>4</th>\n",
       "      <td>0.035116</td>\n",
       "      <td>0.035116</td>\n",
       "      <td>0.070588</td>\n",
       "      <td>0.070588</td>\n",
       "      <td>1</td>\n",
       "      <td>1</td>\n",
       "      <td>1</td>\n",
       "      <td>1</td>\n",
       "      <td>1</td>\n",
       "      <td>1</td>\n",
       "      <td>...</td>\n",
       "      <td>0.5</td>\n",
       "      <td>0.0</td>\n",
       "      <td>0.0</td>\n",
       "      <td>0.0</td>\n",
       "      <td>0.0</td>\n",
       "      <td>0.0</td>\n",
       "      <td>0.0</td>\n",
       "      <td>0.0</td>\n",
       "      <td>0.0</td>\n",
       "      <td>0</td>\n",
       "    </tr>\n",
       "  </tbody>\n",
       "</table>\n",
       "<p>5 rows × 79 columns</p>\n",
       "</div>"
      ],
      "text/plain": [
       "          5         6         8         9  14  15  16  18  20  26 ...   138  \\\n",
       "0  0.000066  0.000066  0.009150  0.009150   1   1   1   1   1   1 ...   0.5   \n",
       "1  0.000014  0.000014  0.000000  0.000000   1   1   1   1   1   1 ...   0.5   \n",
       "2  0.035528  0.035528  0.070588  0.070588   1   1   1   1   1   1 ...   0.5   \n",
       "3  0.005128  0.005128  0.094771  0.094771   1   1   1   1   1   1 ...   0.5   \n",
       "4  0.035116  0.035116  0.070588  0.070588   1   1   1   1   1   1 ...   0.5   \n",
       "\n",
       "   140  141  142  143  144  145  146  154  155  \n",
       "0  0.0  0.0  0.0  0.0  0.0  0.0  0.0  0.0    0  \n",
       "1  0.0  0.0  0.0  0.0  0.0  0.0  0.0  0.0    0  \n",
       "2  0.0  0.0  0.0  0.0  0.0  0.0  0.0  0.0    0  \n",
       "3  0.0  0.0  0.0  0.0  0.0  0.0  0.0  0.0    0  \n",
       "4  0.0  0.0  0.0  0.0  0.0  0.0  0.0  0.0    0  \n",
       "\n",
       "[5 rows x 79 columns]"
      ]
     },
     "execution_count": 5,
     "metadata": {},
     "output_type": "execute_result"
    }
   ],
   "source": [
    "df3.head()"
   ]
  },
  {
   "cell_type": "code",
   "execution_count": 6,
   "metadata": {},
   "outputs": [
    {
     "name": "stdout",
     "output_type": "stream",
     "text": [
      "column 14's value distribution is Counter({1: 97023, 0: 21})\n",
      "column 15's value distribution is Counter({1: 97023, 0: 21})\n",
      "column 16's value distribution is Counter({1: 97023, 0: 21})\n",
      "column 18's value distribution is Counter({1: 97023, 0: 21})\n",
      "column 20's value distribution is Counter({1: 97023, 0: 21})\n",
      "column 26's value distribution is Counter({1: 97023, 0: 21})\n",
      "column 29's value distribution is Counter({1: 97023, 0: 21})\n",
      "column 43's value distribution is Counter({1: 97023, 0: 21})\n",
      "column 52's value distribution is Counter({1: 97023, 0: 21})\n",
      "column 62's value distribution is Counter({1: 97023, 0: 21})\n",
      "column 83's value distribution is Counter({0: 97042, 1: 2})\n",
      "column 84's value distribution is Counter({0: 97038, 1: 6})\n",
      "column 86's value distribution is Counter({0: 97036, 1: 8})\n",
      "column 88's value distribution is Counter({0.0: 97038, 0.03125: 3, 0.46875: 2, 0.375: 1})\n",
      "column 89's value distribution is Counter({1: 97023, 0: 21})\n",
      "column 97's value distribution is Counter({0: 97043, 1: 1})\n",
      "column 105's value distribution is Counter({0.0: 97041, 0.25: 2, 0.5: 1})\n",
      "column 111's value distribution is Counter({0: 97000, 1: 44})\n",
      "column 113's value distribution is Counter({0.0: 97041, 0.42857: 3})\n",
      "column 117's value distribution is Counter({0.0: 97036, 0.0034351: 3, 0.15611: 2, 0.096183: 1, 0.097328: 1, 0.11412: 1})\n",
      "column 133's value distribution is Counter({0: 97043, 1: 1})\n",
      "column 138's value distribution is Counter({0.5: 97043, 0.88: 1})\n"
     ]
    }
   ],
   "source": [
    "# Remove the columns where most of the rows are the same value\n",
    "from collections import Counter\n",
    "headers = list(df3.columns.values)\n",
    "remove_col_list = []\n",
    "\n",
    "for header in headers:\n",
    "    # if the most frequent value of the column fills more than 99.94% of the column, remove it from the dataset\n",
    "    if Counter(df[header]).most_common()[0][1] >= (df3.shape[0] - 50):\n",
    "        remove_col_list.append(header)\n",
    "        print(\"column \" + header+ \"'s value distribution is \"+str(Counter(df[header])))"
   ]
  },
  {
   "cell_type": "code",
   "execution_count": 7,
   "metadata": {},
   "outputs": [
    {
     "data": {
      "text/plain": [
       "(97044, 57)"
      ]
     },
     "execution_count": 7,
     "metadata": {},
     "output_type": "execute_result"
    }
   ],
   "source": [
    "# df4 is the dataframe after dropping these columns where the most frequent value of the column fills \n",
    "# the majority of their rows\n",
    "df4= df3.drop(remove_col_list,axis=1)\n",
    "df4.shape"
   ]
  },
  {
   "cell_type": "code",
   "execution_count": 8,
   "metadata": {},
   "outputs": [
    {
     "data": {
      "text/plain": [
       "array(['5', '6', '8', '9', '38', '47', '48', '50', '51', '61', '64', '66',\n",
       "       '67', '68', '70', '71', '72', '73', '75', '76', '77', '78', '79',\n",
       "       '80', '82', '90', '93', '94', '98', '104', '106', '107', '108',\n",
       "       '109', '110', '112', '118', '119', '120', '121', '122', '123',\n",
       "       '125', '126', '127', '128', '129', '130', '140', '141', '142',\n",
       "       '143', '144', '145', '146', '154', '155'], dtype=object)"
      ]
     },
     "execution_count": 8,
     "metadata": {},
     "output_type": "execute_result"
    }
   ],
   "source": [
    "df4.columns.values"
   ]
  },
  {
   "cell_type": "code",
   "execution_count": 9,
   "metadata": {},
   "outputs": [
    {
     "data": {
      "text/plain": [
       "5      17.200153\n",
       "6      17.200153\n",
       "8       1.772145\n",
       "9       1.772145\n",
       "38     -0.977053\n",
       "47      1.168598\n",
       "48    -67.934197\n",
       "50     -0.881052\n",
       "51      0.882182\n",
       "61     -2.572446\n",
       "64     -1.357737\n",
       "66     -1.310025\n",
       "67      0.308908\n",
       "68     -0.797523\n",
       "70      3.217715\n",
       "71      0.672478\n",
       "72     31.104195\n",
       "73     -0.894060\n",
       "75     35.206595\n",
       "76     34.939381\n",
       "77      8.086345\n",
       "78     34.913149\n",
       "79     34.229749\n",
       "80     92.740886\n",
       "82      1.433743\n",
       "90      2.934485\n",
       "93      3.982461\n",
       "94      5.714494\n",
       "98      2.960329\n",
       "104    17.001594\n",
       "106    33.945872\n",
       "107     8.981833\n",
       "108     3.111769\n",
       "109    19.766029\n",
       "110     3.649254\n",
       "112    16.107402\n",
       "118     2.864029\n",
       "119    49.177087\n",
       "120     3.109743\n",
       "121    14.550269\n",
       "122     5.998186\n",
       "123    40.180226\n",
       "125    25.930336\n",
       "126     6.592108\n",
       "127     6.600506\n",
       "128     6.717656\n",
       "129     6.592108\n",
       "130     6.592108\n",
       "140     0.535234\n",
       "141    10.375253\n",
       "142     0.768811\n",
       "143    12.177543\n",
       "144    43.540914\n",
       "145     1.783121\n",
       "146     1.783121\n",
       "154     1.783549\n",
       "155     0.000000\n",
       "dtype: float64"
      ]
     },
     "execution_count": 9,
     "metadata": {},
     "output_type": "execute_result"
    }
   ],
   "source": [
    "# find out which columns are skewed & need normalization/standardization\n",
    "# skewness = 0 : normally distributed.\n",
    "# skewness > 0 : more weight in the left tail of the distribution.\n",
    "# skewness < 0 : more weight in the right tail of the distribution. \n",
    "\n",
    "df4.skew(axis = 0, skipna = True) "
   ]
  },
  {
   "cell_type": "code",
   "execution_count": 10,
   "metadata": {},
   "outputs": [
    {
     "data": {
      "text/plain": [
       "Counter({0.98108: 96824,\n",
       "         0.0: 21,\n",
       "         0.9851: 62,\n",
       "         0.9871200000000001: 8,\n",
       "         0.97705: 68,\n",
       "         0.99316: 5,\n",
       "         0.97101: 7,\n",
       "         0.97504: 19,\n",
       "         0.9790700000000001: 5,\n",
       "         0.98913: 1,\n",
       "         0.9830899999999999: 24})"
      ]
     },
     "execution_count": 10,
     "metadata": {},
     "output_type": "execute_result"
    }
   ],
   "source": [
    "# I suggest we remove column \"48\" from the dataset as well because its most frequent value `0.98108` fill the majority of the rows\n",
    "Counter(df4[\"48\"])"
   ]
  },
  {
   "cell_type": "code",
   "execution_count": 11,
   "metadata": {},
   "outputs": [
    {
     "data": {
      "text/plain": [
       "True"
      ]
     },
     "execution_count": 11,
     "metadata": {},
     "output_type": "execute_result"
    }
   ],
   "source": [
    "# we can also remove one of columns from each of the pairs below because they are duplicates of each other:\n",
    "# column\"5\" and \"6\"\n",
    "# column 8\" and \"9\"\n",
    "# column \"145\" and \"146\"\n",
    "sum(df4[\"5\"] == df4[\"6\"]) == df4.shape[0]"
   ]
  },
  {
   "cell_type": "code",
   "execution_count": 12,
   "metadata": {},
   "outputs": [
    {
     "data": {
      "text/plain": [
       "True"
      ]
     },
     "execution_count": 12,
     "metadata": {},
     "output_type": "execute_result"
    }
   ],
   "source": [
    "sum(df4[\"8\"] == df4[\"9\"]) == df4.shape[0]"
   ]
  },
  {
   "cell_type": "code",
   "execution_count": 13,
   "metadata": {},
   "outputs": [
    {
     "data": {
      "text/plain": [
       "True"
      ]
     },
     "execution_count": 13,
     "metadata": {},
     "output_type": "execute_result"
    }
   ],
   "source": [
    "sum(df4[\"145\"]==df4[\"146\"]) == df4.shape[0]"
   ]
  },
  {
   "cell_type": "code",
   "execution_count": 14,
   "metadata": {},
   "outputs": [
    {
     "data": {
      "text/plain": [
       "(97044, 53)"
      ]
     },
     "execution_count": 14,
     "metadata": {},
     "output_type": "execute_result"
    }
   ],
   "source": [
    "df5= df4.drop(['5','8','145','48'],axis=1)\n",
    "df5.shape"
   ]
  },
  {
   "cell_type": "markdown",
   "metadata": {},
   "source": [
    "## Rescale Data for those columns whose range is smaller than (0,1)"
   ]
  },
  {
   "cell_type": "code",
   "execution_count": 39,
   "metadata": {},
   "outputs": [],
   "source": [
    "min_max_dict = {}\n",
    "col_to_rescale = []\n",
    "col_not_rescaled = []\n",
    "for i in df5.columns.values:\n",
    "    min_max_dict[i] = [df5[i].min(),df5[i].max()] # I've checked and seen that all columns in this dataframe is within the range (0,1)\n",
    "    if df5[i].min() != 0 or df5[i].max()!=1:\n",
    "        col_to_rescale.append(i)\n",
    "    else:\n",
    "        col_not_rescaled.append(i)"
   ]
  },
  {
   "cell_type": "code",
   "execution_count": 31,
   "metadata": {},
   "outputs": [],
   "source": [
    "from sklearn.preprocessing import MinMaxScaler\n",
    "scaler = MinMaxScaler(feature_range=(0, 1))\n",
    "X = df5[col_to_rescale].values\n",
    "rescaledX = scaler.fit_transform(X)"
   ]
  },
  {
   "cell_type": "code",
   "execution_count": 45,
   "metadata": {},
   "outputs": [
    {
     "data": {
      "text/plain": [
       "(97044, 53)"
      ]
     },
     "execution_count": 45,
     "metadata": {},
     "output_type": "execute_result"
    }
   ],
   "source": [
    "# join the scaled data back to the unscaled columns, the result is a dataframe df_with_rescaled_cols\n",
    "df_rescaled_only = pd.DataFrame(rescaledX,columns=col_to_rescale)\n",
    "df_with_rescaled_cols = pd.concat([df_rescaled_only,df5[col_not_rescaled]], axis=1)\n",
    "df_with_rescaled_cols.shape"
   ]
  },
  {
   "cell_type": "markdown",
   "metadata": {},
   "source": [
    "## Standardise Data with `StandardScaler` (since most columns values don't currently have a normal distribution)\n",
    "Use this version for:\n",
    "* linear regression\n",
    "* logistic regression\n",
    "* linear discriminate analysis"
   ]
  },
  {
   "cell_type": "code",
   "execution_count": 48,
   "metadata": {},
   "outputs": [
    {
     "data": {
      "text/plain": [
       "6      17.200153\n",
       "38     -0.977053\n",
       "76     34.939381\n",
       "77      8.086345\n",
       "78     34.913149\n",
       "79     34.229749\n",
       "80     92.740886\n",
       "106    33.945872\n",
       "107     8.981833\n",
       "108     3.111769\n",
       "109    19.766029\n",
       "110     3.649254\n",
       "119    49.177087\n",
       "121    14.550269\n",
       "122     5.998186\n",
       "125    25.930336\n",
       "126     6.592108\n",
       "127     6.600506\n",
       "128     6.717656\n",
       "129     6.592108\n",
       "142     0.768811\n",
       "143    12.177543\n",
       "144    43.540914\n",
       "9       1.772145\n",
       "47      1.168598\n",
       "50     -0.881052\n",
       "51      0.882182\n",
       "61     -2.572446\n",
       "64     -1.357737\n",
       "66     -1.310025\n",
       "67      0.308908\n",
       "68     -0.797523\n",
       "70      3.217715\n",
       "71      0.672478\n",
       "72     31.104195\n",
       "73     -0.894060\n",
       "75     35.206595\n",
       "82      1.433743\n",
       "90      2.934485\n",
       "93      3.982461\n",
       "94      5.714494\n",
       "98      2.960329\n",
       "104    17.001594\n",
       "112    16.107402\n",
       "118     2.864029\n",
       "120     3.109743\n",
       "123    40.180226\n",
       "130     6.592108\n",
       "140     0.535234\n",
       "141    10.375253\n",
       "146     1.783121\n",
       "154     1.783549\n",
       "155     0.000000\n",
       "dtype: float64"
      ]
     },
     "execution_count": 48,
     "metadata": {},
     "output_type": "execute_result"
    }
   ],
   "source": [
    "# 0 mean, 1 standard deviation\n",
    "from sklearn.preprocessing import StandardScaler\n",
    "df_with_rescaled_cols.skew()\n",
    "\n",
    "# column 155 is left out before we will binarise it later"
   ]
  },
  {
   "cell_type": "code",
   "execution_count": null,
   "metadata": {},
   "outputs": [],
   "source": []
  },
  {
   "cell_type": "code",
   "execution_count": null,
   "metadata": {},
   "outputs": [],
   "source": []
  },
  {
   "cell_type": "code",
   "execution_count": 47,
   "metadata": {},
   "outputs": [
    {
     "data": {
      "text/plain": [
       "<matplotlib.axes._subplots.AxesSubplot at 0x1220f0c50>"
      ]
     },
     "execution_count": 47,
     "metadata": {},
     "output_type": "execute_result"
    },
    {
     "data": {
      "image/png": "[encoded data removed]",
      "text/plain": [
       "<Figure size 432x288 with 1 Axes>"
      ]
     },
     "metadata": {
      "needs_background": "light"
     },
     "output_type": "display_data"
    }
   ],
   "source": [
    "\n",
    "col_not_rescaled\n",
    "\n",
    "df5[\"9\"].hist()"
   ]
  },
  {
   "cell_type": "markdown",
   "metadata": {},
   "source": [
    "## Normalise data\n",
    "Use this version for:\n",
    "* neural networks\n",
    "* random forest "
   ]
  },
  {
   "cell_type": "code",
   "execution_count": null,
   "metadata": {},
   "outputs": [],
   "source": []
  },
  {
   "cell_type": "markdown",
   "metadata": {},
   "source": [
    "## Result\n",
    "* Number of columns in the original dataset: 153\n",
    "* Removed x columns from the dataset due to:\n",
    "  + all rows having the same value, e.g. \"0\" or \"1\" (74 in total)\n",
    "  + insufficient information (i.e. the most frequent value fills > 99.95% of the rows) (22 in total)\n",
    "  + duplicate columns (3 in total)\n",
    "* Rescaled x columns to the range (0,1) by using `MinMaxScaler`\n",
    "* Standarized x columns\n",
    "* Binarise the following columns"
   ]
  },
  {
   "cell_type": "code",
   "execution_count": null,
   "metadata": {},
   "outputs": [],
   "source": []
  },
  {
   "cell_type": "code",
   "execution_count": null,
   "metadata": {},
   "outputs": [],
   "source": []
  },
  {
   "cell_type": "markdown",
   "metadata": {},
   "source": [
    "Further actions:\n",
    "* Try rescaling with `StandardScaler`?"
   ]
  },
  {
   "cell_type": "code",
   "execution_count": null,
   "metadata": {},
   "outputs": [],
   "source": []
  },
  {
   "cell_type": "code",
   "execution_count": null,
   "metadata": {},
   "outputs": [],
   "source": []
  }
 ],
 "metadata": {
  "kernelspec": {
   "display_name": "Python 3",
   "language": "python",
   "name": "python3"
  },
  "language_info": {
   "codemirror_mode": {
    "name": "ipython",
    "version": 3
   },
   "file_extension": ".py",
   "mimetype": "text/x-python",
   "name": "python",
   "nbconvert_exporter": "python",
   "pygments_lexer": "ipython3",
   "version": "3.7.0"
  }
 },
 "nbformat": 4,
 "nbformat_minor": 2
}
