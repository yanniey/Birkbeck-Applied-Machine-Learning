{
 "cells": [
  {
   "cell_type": "markdown",
   "metadata": {},
   "source": [
    "## Add Headers"
   ]
  },
  {
   "cell_type": "code",
   "execution_count": 3,
   "metadata": {},
   "outputs": [],
   "source": [
    "#Load the AWID data, add headers and write back to disk\n",
    "\n",
    "from pandas import read_csv\n",
    "\n",
    "\n",
    "path = '../Data/'\n",
    "filename = 'train_imperson_without4n7_balanced_data.csv' \n",
    "testfilename = 'test_imperson_without4n7_balanced_data.csv'\n",
    "headername = 'Headers.csv'\n",
    "\n",
    "headers = read_csv(path + headername)\n",
    "data = read_csv(path + filename)\n",
    "test = read_csv(path + testfilename)\n",
    "data.columns = headers.columns\n",
    "test.columns = headers.columns\n",
    "\n",
    "data.to_csv(path +  'train_data_with_headers.csv' , sep=',' , index=False)\n",
    "test.to_csv(path +  'test_data_with_headers.csv' , sep=',' , index=False)"
   ]
  },
  {
   "cell_type": "code",
   "execution_count": null,
   "metadata": {},
   "outputs": [],
   "source": []
  }
 ],
 "metadata": {
  "kernelspec": {
   "display_name": "Python 3",
   "language": "python",
   "name": "python3"
  },
  "language_info": {
   "codemirror_mode": {
    "name": "ipython",
    "version": 3
   },
   "file_extension": ".py",
   "mimetype": "text/x-python",
   "name": "python",
   "nbconvert_exporter": "python",
   "pygments_lexer": "ipython3",
   "version": "3.7.3"
  }
 },
 "nbformat": 4,
 "nbformat_minor": 4
}
