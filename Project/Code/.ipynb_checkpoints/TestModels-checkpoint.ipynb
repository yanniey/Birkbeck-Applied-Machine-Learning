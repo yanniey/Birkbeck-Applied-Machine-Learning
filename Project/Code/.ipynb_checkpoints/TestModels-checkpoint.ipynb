{
 "cells": [
  {
   "cell_type": "code",
   "execution_count": 1,
   "metadata": {},
   "outputs": [],
   "source": [
    "%run ConMatAndStats.py"
   ]
  },
  {
   "cell_type": "code",
   "execution_count": 2,
   "metadata": {},
   "outputs": [
    {
     "name": "stderr",
     "output_type": "stream",
     "text": [
      "ERROR:root:Internal Python error in the inspect module.\n",
      "Below is the traceback from this internal error.\n",
      "\n"
     ]
    },
    {
     "name": "stdout",
     "output_type": "stream",
     "text": [
      "Traceback (most recent call last):\n",
      "  File \"/Users/anyi.guo/anaconda3/lib/python3.7/site-packages/IPython/core/interactiveshell.py\", line 3325, in run_code\n",
      "    exec(code_obj, self.user_global_ns, self.user_ns)\n",
      "  File \"<ipython-input-2-51d03aee8045>\", line 20, in <module>\n",
      "    Ytest = testarray[:,array.shape[1]-1]\n",
      "IndexError: index 37 is out of bounds for axis 1 with size 29\n",
      "\n",
      "During handling of the above exception, another exception occurred:\n",
      "\n",
      "Traceback (most recent call last):\n",
      "  File \"/Users/anyi.guo/anaconda3/lib/python3.7/site-packages/IPython/core/interactiveshell.py\", line 2039, in showtraceback\n",
      "    stb = value._render_traceback_()\n",
      "AttributeError: 'IndexError' object has no attribute '_render_traceback_'\n",
      "\n",
      "During handling of the above exception, another exception occurred:\n",
      "\n",
      "Traceback (most recent call last):\n",
      "  File \"/Users/anyi.guo/anaconda3/lib/python3.7/site-packages/IPython/core/ultratb.py\", line 1101, in get_records\n",
      "    return _fixed_getinnerframes(etb, number_of_lines_of_context, tb_offset)\n",
      "  File \"/Users/anyi.guo/anaconda3/lib/python3.7/site-packages/IPython/core/ultratb.py\", line 319, in wrapped\n",
      "    return f(*args, **kwargs)\n",
      "  File \"/Users/anyi.guo/anaconda3/lib/python3.7/site-packages/IPython/core/ultratb.py\", line 353, in _fixed_getinnerframes\n",
      "    records = fix_frame_records_filenames(inspect.getinnerframes(etb, context))\n",
      "  File \"/Users/anyi.guo/anaconda3/lib/python3.7/inspect.py\", line 1502, in getinnerframes\n",
      "    frameinfo = (tb.tb_frame,) + getframeinfo(tb, context)\n",
      "  File \"/Users/anyi.guo/anaconda3/lib/python3.7/inspect.py\", line 1460, in getframeinfo\n",
      "    filename = getsourcefile(frame) or getfile(frame)\n",
      "  File \"/Users/anyi.guo/anaconda3/lib/python3.7/inspect.py\", line 696, in getsourcefile\n",
      "    if getattr(getmodule(object, filename), '__loader__', None) is not None:\n",
      "  File \"/Users/anyi.guo/anaconda3/lib/python3.7/inspect.py\", line 742, in getmodule\n",
      "    os.path.realpath(f)] = module.__name__\n",
      "AttributeError: module has no attribute '__name__'\n"
     ]
    },
    {
     "ename": "IndexError",
     "evalue": "index 37 is out of bounds for axis 1 with size 29",
     "output_type": "error",
     "traceback": [
      "\u001b[0;31m---------------------------------------------------------------------------\u001b[0m"
     ]
    }
   ],
   "source": [
    "# load data\n",
    "\n",
    "from pandas import read_csv\n",
    "\n",
    "path = '../Data/'\n",
    "filename = 'preprocessed_training_without_scaling.csv' \n",
    "testfilename = 'selected_test_data.csv'\n",
    "data = read_csv(path + filename)\n",
    "test = read_csv(path + testfilename)\n",
    "\n",
    "allnames = data.columns\n",
    "Xnames = data.columns[0:data.values.shape[1]-1]\n",
    "\n",
    "array = data.values \n",
    "X = array[:,0:array.shape[1]-1] \n",
    "Y = array[:,array.shape[1]-1]\n",
    "\n",
    "testarray = test.values \n",
    "Xtest = testarray[:,0:array.shape[1]-1] \n",
    "Ytest = testarray[:,array.shape[1]-1]\n",
    "\n",
    "X.shape"
   ]
  },
  {
   "cell_type": "code",
   "execution_count": null,
   "metadata": {},
   "outputs": [],
   "source": [
    "import time"
   ]
  },
  {
   "cell_type": "code",
   "execution_count": null,
   "metadata": {},
   "outputs": [],
   "source": [
    "from pandas import read_csv \n",
    "from matplotlib import pyplot \n",
    "from sklearn.model_selection import KFold \n",
    "from sklearn.model_selection import cross_val_score \n",
    "from sklearn.tree import DecisionTreeClassifier \n",
    "from sklearn.dummy import DummyClassifier\n",
    "from sklearn.ensemble import RandomForestClassifier\n",
    "from sklearn.ensemble import AdaBoostClassifier\n",
    "from sklearn.ensemble import GradientBoostingClassifier\n",
    "from sklearn.linear_model import LogisticRegression \n",
    "from sklearn.svm import SVC\n",
    "from sklearn.gaussian_process import GaussianProcessClassifier\n",
    "from sklearn.gaussian_process.kernels import RBF\n",
    "\n",
    "# prepare models \n",
    "models = []  \n",
    "models.append(('ZeroR', DummyClassifier(strategy='most_frequent')))\n",
    "models.append(('CART', DecisionTreeClassifier(criterion='entropy'))) \n",
    "models.append(('Random Forest', RandomForestClassifier(n_estimators=100, max_depth=10))) \n",
    "models.append(('AdaBoost', GradientBoostingClassifier(loss='exponential')))\n",
    "models.append(('Logit Boost', GradientBoostingClassifier(loss='deviance')))\n",
    "models.append(('LR', LogisticRegression(solver='liblinear'))) \n",
    "models.append(('SVM', SVC(gamma='scale'))) \n",
    "models.append(('RBF', SVC(kernel='rbf', random_state=0, gamma=0.20, C=10.0)))\n",
    "\n",
    "\n",
    "results = [] \n",
    "names = [] \n",
    "stats =[]\n",
    "scoring = 'accuracy' \n",
    "for name, model in models:   \n",
    "    start = time.time()\n",
    "    #kfold = KFold(n_splits=10, random_state=7)   \n",
    "    #cv_results = cross_val_score(model, X, Y, cv=kfold, scoring=scoring)   \n",
    "    #results.append(cv_results)   \n",
    "    #names.append(name)   \n",
    "    #msg = \"%s: %f (%f)\" % (name, cv_results.mean(), cv_results.std())   \n",
    "    print(name)\n",
    "    model.fit(X, Y)\n",
    "    Ypred = model.predict(Xtest)\n",
    "    end = time.time()\n",
    "    #print(msg) \n",
    "    stats.append(ConMatAndStats (Ytest, Ypred))\n",
    "    print(\"Time = %.3f\" % (end - start))\n",
    "    print()  "
   ]
  },
  {
   "cell_type": "code",
   "execution_count": null,
   "metadata": {},
   "outputs": [],
   "source": [
    "stats"
   ]
  },
  {
   "cell_type": "code",
   "execution_count": null,
   "metadata": {},
   "outputs": [],
   "source": []
  }
 ],
 "metadata": {
  "kernelspec": {
   "display_name": "Python 3",
   "language": "python",
   "name": "python3"
  },
  "language_info": {
   "codemirror_mode": {
    "name": "ipython",
    "version": 3
   },
   "file_extension": ".py",
   "mimetype": "text/x-python",
   "name": "python",
   "nbconvert_exporter": "python",
   "pygments_lexer": "ipython3",
   "version": "3.7.3"
  }
 },
 "nbformat": 4,
 "nbformat_minor": 4
}
