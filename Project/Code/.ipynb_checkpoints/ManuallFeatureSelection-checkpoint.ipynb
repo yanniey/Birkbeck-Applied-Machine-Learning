{
 "cells": [
  {
   "cell_type": "markdown",
   "metadata": {},
   "source": [
    "# Quick Automated Approach\n",
    "\n",
    "Scan features and eliminate those with:\n",
    "\n",
    "    Standard Deviation of less than 0.001\n",
    "    Fewer than 10% non zero values\n",
    "    Fewer than 10% non one values"
   ]
  },
  {
   "cell_type": "code",
   "execution_count": 2,
   "metadata": {},
   "outputs": [],
   "source": [
    "#Load the AWID data\n",
    "\n",
    "from pandas import read_csv\n",
    "\n",
    "\n",
    "path = '../Data/'\n",
    "filename = 'train_data_with_headers.csv' \n",
    "testfilename = 'test_data_with_headers.csv'\n",
    "data = read_csv(path + filename)\n",
    "test = read_csv(path + testfilename)\n"
   ]
  },
  {
   "cell_type": "markdown",
   "metadata": {},
   "source": [
    "## PCA Check\n",
    "\n",
    "Get the PCA breakdown of the data and see how many vectors are required to get 95% of the variance in the data. Gives a strong clue as to how many features to retain.\n",
    "\n",
    "Not using this for ant feature sekection in this simple version"
   ]
  },
  {
   "cell_type": "code",
   "execution_count": 5,
   "metadata": {},
   "outputs": [],
   "source": [
    "import numpy\n",
    "u, s, vh = numpy.linalg.svd(data.values, full_matrices=False)"
   ]
  },
  {
   "cell_type": "code",
   "execution_count": 13,
   "metadata": {},
   "outputs": [
    {
     "name": "stdout",
     "output_type": "stream",
     "text": [
      "The first 5 vectors explain 72.57% of all the variance in the dataset\n",
      "The first 10 vectors explain 84.32% of all the variance in the dataset\n",
      "The first 15 vectors explain 90.49% of all the variance in the dataset\n",
      "The first 20 vectors explain 94.19% of all the variance in the dataset\n",
      "The first 25 vectors explain 96.53% of all the variance in the dataset\n",
      "The first 30 vectors explain 97.83% of all the variance in the dataset\n"
     ]
    }
   ],
   "source": [
    "for i in range (5, 35, 5):\n",
    "    print('The first %d vectors explain %5.2f%% of all the variance in the dataset' %(i, 100 * s[0:i].sum() / s.sum()))"
   ]
  },
  {
   "cell_type": "markdown",
   "metadata": {},
   "source": [
    "# Manual Approach\n",
    "\n",
    "Loaded data into Orange.\n",
    "\n",
    "View all the features and select those where the distribution appears different for the two classes"
   ]
  },
  {
   "cell_type": "code",
   "execution_count": 14,
   "metadata": {},
   "outputs": [],
   "source": [
    "ManualKeep=['frame.len',\n",
    "            'radiotap.datarate',\n",
    "            'radiotap.channel.type.cck',\n",
    "            'radiotap.channel.type.ofdm',\n",
    "            'radiotap.dbm_antsignal',\n",
    "            'wlan.fc.type',\n",
    "            'wlan.fc.subtype',\n",
    "            'wlan.fc.ds','wlan.fc.retry',\n",
    "            'wlan.fc.pwrmgt',\n",
    "            'wlan.fc.protected',\n",
    "            'wlan.fc.order',\n",
    "            'wlan.ra',\n",
    "            'wlan.da',\n",
    "            'wlan.seq',\n",
    "            'wlan_mgt.fixed.reason_code',\n",
    "            'wlan_mgt.tim.dtim_count',\n",
    "            'wlan_mgt.tim.dtim_period',\n",
    "            'wlan_mgt.rsn.version',\n",
    "            'wlan_mgt.rsn.gcs.type',\n",
    "            'wlan_mgt.rsn.pcs.count',\n",
    "            'wlan_mgt.rsn.akms.count',\n",
    "            'wlan_mgt.rsn.akms.type',\n",
    "            'wlan.wep.iv',\n",
    "            'wlan.wep.key',\n",
    "            'wlan.wep.icv',\n",
    "            'wlan.qos.tid',\n",
    "            'data.len',\n",
    "            'class']"
   ]
  },
  {
   "cell_type": "code",
   "execution_count": 15,
   "metadata": {},
   "outputs": [],
   "source": [
    "a = data[ManualKeep]\n",
    "b = test[ManualKeep]"
   ]
  },
  {
   "cell_type": "code",
   "execution_count": 16,
   "metadata": {},
   "outputs": [
    {
     "data": {
      "text/plain": [
       "(97044, 29)"
      ]
     },
     "execution_count": 16,
     "metadata": {},
     "output_type": "execute_result"
    }
   ],
   "source": [
    "a.shape"
   ]
  },
  {
   "cell_type": "code",
   "execution_count": 17,
   "metadata": {},
   "outputs": [
    {
     "data": {
      "text/plain": [
       "(40158, 29)"
      ]
     },
     "execution_count": 17,
     "metadata": {},
     "output_type": "execute_result"
    }
   ],
   "source": [
    "b.shape"
   ]
  },
  {
   "cell_type": "code",
   "execution_count": 18,
   "metadata": {},
   "outputs": [],
   "source": [
    "a.to_csv(path +  'selected_data.csv' , sep=',' , index=False)\n",
    "b.to_csv(path +  'selected_test_data.csv' , sep=',' , index=False)"
   ]
  },
  {
   "cell_type": "code",
   "execution_count": null,
   "metadata": {},
   "outputs": [],
   "source": []
  }
 ],
 "metadata": {
  "kernelspec": {
   "display_name": "Python 3",
   "language": "python",
   "name": "python3"
  },
  "language_info": {
   "codemirror_mode": {
    "name": "ipython",
    "version": 3
   },
   "file_extension": ".py",
   "mimetype": "text/x-python",
   "name": "python",
   "nbconvert_exporter": "python",
   "pygments_lexer": "ipython3",
   "version": "3.7.3"
  }
 },
 "nbformat": 4,
 "nbformat_minor": 4
}
